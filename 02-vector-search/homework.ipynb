{
 "cells": [
  {
   "cell_type": "markdown",
   "id": "b005eba5",
   "metadata": {},
   "source": [
    "# Homework 2"
   ]
  },
  {
   "cell_type": "code",
   "execution_count": 7,
   "id": "a3498009",
   "metadata": {},
   "outputs": [],
   "source": [
    "import numpy as np\n",
    "from fastembed import TextEmbedding"
   ]
  },
  {
   "cell_type": "markdown",
   "id": "18548654",
   "metadata": {},
   "source": [
    "## Q1. Embedding the query"
   ]
  },
  {
   "cell_type": "code",
   "execution_count": 16,
   "id": "f8d0470b",
   "metadata": {},
   "outputs": [],
   "source": [
    "query = \"I just discovered the course. Can I join now?\"\n",
    "model = \"jinaai/jina-embeddings-v2-small-en\"\n",
    "\n",
    "embedding = TextEmbedding(model_name=model)\n",
    "\n",
    "embedded_query = embedding.embed(query)"
   ]
  },
  {
   "cell_type": "code",
   "execution_count": 18,
   "id": "361105f7",
   "metadata": {},
   "outputs": [],
   "source": [
    "embedded_query = list(embedded_query)[0]"
   ]
  },
  {
   "cell_type": "code",
   "execution_count": 21,
   "id": "04019bde",
   "metadata": {},
   "outputs": [
    {
     "data": {
      "text/plain": [
       "np.float64(-0.11726373885183883)"
      ]
     },
     "execution_count": 21,
     "metadata": {},
     "output_type": "execute_result"
    }
   ],
   "source": [
    "embedded_query.min()"
   ]
  },
  {
   "cell_type": "markdown",
   "id": "b3e0f0cf",
   "metadata": {},
   "source": [
    "## Q2. Cosine similarity with another vector"
   ]
  },
  {
   "cell_type": "code",
   "execution_count": 22,
   "id": "cab52bed",
   "metadata": {},
   "outputs": [
    {
     "data": {
      "text/plain": [
       "np.float64(1.0)"
      ]
     },
     "execution_count": 22,
     "metadata": {},
     "output_type": "execute_result"
    }
   ],
   "source": [
    "np.linalg.norm(embedded_query)"
   ]
  },
  {
   "cell_type": "code",
   "execution_count": 23,
   "id": "dbd35046",
   "metadata": {},
   "outputs": [
    {
     "data": {
      "text/plain": [
       "np.float64(1.0000000000000002)"
      ]
     },
     "execution_count": 23,
     "metadata": {},
     "output_type": "execute_result"
    }
   ],
   "source": [
    "embedded_query.dot(embedded_query)"
   ]
  },
  {
   "cell_type": "code",
   "execution_count": 24,
   "id": "126bed81",
   "metadata": {},
   "outputs": [],
   "source": [
    "doc = \"Can I still join the course after the start date?\"\n",
    "embedded_doc = embedding.embed(doc)\n",
    "\n",
    "embedded_doc = list(embedded_doc)[0]"
   ]
  },
  {
   "cell_type": "code",
   "execution_count": 28,
   "id": "4980f6df",
   "metadata": {},
   "outputs": [
    {
     "data": {
      "text/plain": [
       "np.float64(1.0)"
      ]
     },
     "execution_count": 28,
     "metadata": {},
     "output_type": "execute_result"
    }
   ],
   "source": [
    "np.linalg.norm(embedded_doc)"
   ]
  },
  {
   "cell_type": "code",
   "execution_count": 30,
   "id": "4309fdb4",
   "metadata": {},
   "outputs": [
    {
     "data": {
      "text/plain": [
       "np.float64(0.9008528895674548)"
      ]
     },
     "execution_count": 30,
     "metadata": {},
     "output_type": "execute_result"
    }
   ],
   "source": [
    "cosine_sim = embedded_doc.dot(embedded_query)\n",
    "\n",
    "cosine_sim"
   ]
  },
  {
   "cell_type": "markdown",
   "id": "92de3455",
   "metadata": {},
   "source": [
    "## Q3. Ranking by cosine"
   ]
  },
  {
   "cell_type": "code",
   "execution_count": 32,
   "id": "b044c232",
   "metadata": {},
   "outputs": [],
   "source": [
    "documents = [\n",
    "    {\n",
    "        \"text\": \"Yes, even if you don't register, you're still eligible to submit the homeworks.\\nBe aware, however, that there will be deadlines for turning in the final projects. So don't leave everything for the last minute.\",\n",
    "        \"section\": \"General course-related questions\",\n",
    "        \"question\": \"Course - Can I still join the course after the start date?\",\n",
    "        \"course\": \"data-engineering-zoomcamp\",\n",
    "    },\n",
    "    {\n",
    "        \"text\": \"Yes, we will keep all the materials after the course finishes, so you can follow the course at your own pace after it finishes.\\nYou can also continue looking at the homeworks and continue preparing for the next cohort. I guess you can also start working on your final capstone project.\",\n",
    "        \"section\": \"General course-related questions\",\n",
    "        \"question\": \"Course - Can I follow the course after it finishes?\",\n",
    "        \"course\": \"data-engineering-zoomcamp\",\n",
    "    },\n",
    "    {\n",
    "        \"text\": \"The purpose of this document is to capture frequently asked technical questions\\nThe exact day and hour of the course will be 15th Jan 2024 at 17h00. The course will start with the first  “Office Hours'' live.1\\nSubscribe to course public Google Calendar (it works from Desktop only).\\nRegister before the course starts using this link.\\nJoin the course Telegram channel with announcements.\\nDon’t forget to register in DataTalks.Club's Slack and join the channel.\",\n",
    "        \"section\": \"General course-related questions\",\n",
    "        \"question\": \"Course - When will the course start?\",\n",
    "        \"course\": \"data-engineering-zoomcamp\",\n",
    "    },\n",
    "    {\n",
    "        \"text\": \"You can start by installing and setting up all the dependencies and requirements:\\nGoogle cloud account\\nGoogle Cloud SDK\\nPython 3 (installed with Anaconda)\\nTerraform\\nGit\\nLook over the prerequisites and syllabus to see if you are comfortable with these subjects.\",\n",
    "        \"section\": \"General course-related questions\",\n",
    "        \"question\": \"Course - What can I do before the course starts?\",\n",
    "        \"course\": \"data-engineering-zoomcamp\",\n",
    "    },\n",
    "    {\n",
    "        \"text\": \"Star the repo! Share it with friends if you find it useful ❣️\\nCreate a PR if you see you can improve the text or the structure of the repository.\",\n",
    "        \"section\": \"General course-related questions\",\n",
    "        \"question\": \"How can we contribute to the course?\",\n",
    "        \"course\": \"data-engineering-zoomcamp\",\n",
    "    },\n",
    "]"
   ]
  },
  {
   "cell_type": "code",
   "execution_count": null,
   "id": "59f36a96",
   "metadata": {},
   "outputs": [],
   "source": [
    "embedded_texts = embedding.embed([document['text'] for document in documents])\n",
    "embedded_texts = list(embedded_texts)"
   ]
  },
  {
   "cell_type": "code",
   "execution_count": null,
   "id": "547d1f0b",
   "metadata": {},
   "outputs": [
    {
     "data": {
      "text/plain": [
       "np.int64(1)"
      ]
     },
     "execution_count": 54,
     "metadata": {},
     "output_type": "execute_result"
    }
   ],
   "source": [
    "cosine_sims = np.array(embedded_texts).dot(embedded_query)\n",
    "cosine_sims.argmax()"
   ]
  },
  {
   "cell_type": "markdown",
   "id": "cb2bb6cb",
   "metadata": {},
   "source": [
    "## Q4. Ranking by cosine, version two"
   ]
  },
  {
   "cell_type": "code",
   "execution_count": 55,
   "id": "52dd6933",
   "metadata": {},
   "outputs": [],
   "source": [
    "full_text = [doc[\"question\"] + \" \" + doc[\"text\"] for doc in documents]\n",
    "\n",
    "embedded_texts = embedding.embed(full_text)\n",
    "embedded_texts = list(embedded_texts)"
   ]
  },
  {
   "cell_type": "code",
   "execution_count": null,
   "id": "23ed8b09",
   "metadata": {},
   "outputs": [
    {
     "data": {
      "text/plain": [
       "np.int64(0)"
      ]
     },
     "execution_count": 56,
     "metadata": {},
     "output_type": "execute_result"
    }
   ],
   "source": [
    "cosine_sims = np.array(embedded_texts).dot(embedded_query)\n",
    "\n",
    "cosine_sims.argmax()"
   ]
  },
  {
   "cell_type": "code",
   "execution_count": 57,
   "id": "2cf0d94e",
   "metadata": {},
   "outputs": [
    {
     "data": {
      "text/plain": [
       "'I just discovered the course. Can I join now?'"
      ]
     },
     "execution_count": 57,
     "metadata": {},
     "output_type": "execute_result"
    }
   ],
   "source": [
    "query"
   ]
  },
  {
   "cell_type": "code",
   "execution_count": 59,
   "id": "4b217f6e",
   "metadata": {},
   "outputs": [
    {
     "data": {
      "text/plain": [
       "\"Course - Can I still join the course after the start date? Yes, even if you don't register, you're still eligible to submit the homeworks.\\nBe aware, however, that there will be deadlines for turning in the final projects. So don't leave everything for the last minute.\""
      ]
     },
     "execution_count": 59,
     "metadata": {},
     "output_type": "execute_result"
    }
   ],
   "source": [
    "documents[0][\"question\"] + \" \" + documents[0][\"text\"]"
   ]
  },
  {
   "cell_type": "code",
   "execution_count": 60,
   "id": "a2ebe7e1",
   "metadata": {},
   "outputs": [
    {
     "data": {
      "text/plain": [
       "'Yes, we will keep all the materials after the course finishes, so you can follow the course at your own pace after it finishes.\\nYou can also continue looking at the homeworks and continue preparing for the next cohort. I guess you can also start working on your final capstone project.'"
      ]
     },
     "execution_count": 60,
     "metadata": {},
     "output_type": "execute_result"
    }
   ],
   "source": [
    "documents[1][\"text\"]"
   ]
  },
  {
   "cell_type": "markdown",
   "id": "950f83e0",
   "metadata": {},
   "source": [
    "The score will be different, because we calculate cosine similarity between the query with:\n",
    "- text (answer) only for version one,\n",
    "- question with text (answer) for version two."
   ]
  },
  {
   "cell_type": "markdown",
   "id": "b2e3d1b9",
   "metadata": {},
   "source": [
    "## Q5. Selecting the embedding model"
   ]
  },
  {
   "cell_type": "markdown",
   "id": "1e11a905",
   "metadata": {},
   "source": [
    "The smallest embedding dimensionality available in FastEmbed models is 384. BAAI/bge-small-en has dimension of 384. "
   ]
  },
  {
   "cell_type": "markdown",
   "id": "ba5ad490",
   "metadata": {},
   "source": [
    "## Q6. Indexing with qdrant "
   ]
  },
  {
   "cell_type": "code",
   "execution_count": 62,
   "id": "2f433cb3",
   "metadata": {},
   "outputs": [],
   "source": [
    "from qdrant_client import QdrantClient, models"
   ]
  },
  {
   "cell_type": "code",
   "execution_count": 61,
   "id": "ee3daf11",
   "metadata": {},
   "outputs": [],
   "source": [
    "import requests\n",
    "\n",
    "docs_url = \"https://github.com/alexeygrigorev/llm-rag-workshop/raw/main/notebooks/documents.json\"\n",
    "docs_response = requests.get(docs_url)\n",
    "documents_raw = docs_response.json()\n",
    "\n",
    "\n",
    "documents = []\n",
    "\n",
    "for course in documents_raw:\n",
    "    course_name = course[\"course\"]\n",
    "    if course_name != \"machine-learning-zoomcamp\":\n",
    "        continue\n",
    "\n",
    "    for doc in course[\"documents\"]:\n",
    "        doc[\"course\"] = course_name\n",
    "        documents.append(doc)\n"
   ]
  },
  {
   "cell_type": "code",
   "execution_count": 63,
   "id": "1387e13e",
   "metadata": {},
   "outputs": [],
   "source": [
    "qd_client = QdrantClient(\"http://localhost:6333\")"
   ]
  },
  {
   "cell_type": "code",
   "execution_count": 64,
   "id": "66a12025",
   "metadata": {},
   "outputs": [],
   "source": [
    "model = \"BAAI/bge-small-en\"\n",
    "EMBEDDING_DIMENSIONALITY = 384"
   ]
  },
  {
   "cell_type": "code",
   "execution_count": 65,
   "id": "59408294",
   "metadata": {},
   "outputs": [
    {
     "data": {
      "text/plain": [
       "True"
      ]
     },
     "execution_count": 65,
     "metadata": {},
     "output_type": "execute_result"
    }
   ],
   "source": [
    "collection_name = \"zoomcamp-faq\"\n",
    "qd_client.delete_collection(collection_name=collection_name)\n",
    "\n",
    "qd_client.create_collection(\n",
    "    collection_name=collection_name,\n",
    "    vectors_config=models.VectorParams(\n",
    "        size=EMBEDDING_DIMENSIONALITY,\n",
    "        distance=models.Distance.COSINE\n",
    "    )\n",
    ")"
   ]
  },
  {
   "cell_type": "code",
   "execution_count": 66,
   "id": "f926c42e",
   "metadata": {},
   "outputs": [
    {
     "data": {
      "text/plain": [
       "UpdateResult(operation_id=1, status=<UpdateStatus.COMPLETED: 'completed'>)"
      ]
     },
     "execution_count": 66,
     "metadata": {},
     "output_type": "execute_result"
    }
   ],
   "source": [
    "qd_client.create_payload_index(\n",
    "    collection_name=collection_name, field_name=\"course\", field_schema=\"keyword\"\n",
    ")\n"
   ]
  },
  {
   "cell_type": "code",
   "execution_count": 67,
   "id": "04105f5d",
   "metadata": {},
   "outputs": [],
   "source": [
    "points = []\n",
    "\n",
    "for i, doc in enumerate(documents):\n",
    "    text = doc[\"question\"] + \" \" + doc[\"text\"]\n",
    "    vector = models.Document(text=text, model=model)\n",
    "    point = models.PointStruct(id=i, vector=vector, payload=doc)\n",
    "    points.append(point)"
   ]
  },
  {
   "cell_type": "code",
   "execution_count": 68,
   "id": "4b861b83",
   "metadata": {},
   "outputs": [
    {
     "name": "stderr",
     "output_type": "stream",
     "text": [
      "Fetching 5 files:   0%|          | 0/5 [00:00<?, ?it/s]d:\\Project\\llm-zoomcamp\\.venv\\Lib\\site-packages\\huggingface_hub\\file_download.py:143: UserWarning: `huggingface_hub` cache-system uses symlinks by default to efficiently store duplicated files but your machine does not support them in C:\\Users\\ariaw\\AppData\\Local\\Temp\\fastembed_cache\\models--Qdrant--bge-small-en. Caching files will still work but in a degraded version that might require more space on your disk. This warning can be disabled by setting the `HF_HUB_DISABLE_SYMLINKS_WARNING` environment variable. For more details, see https://huggingface.co/docs/huggingface_hub/how-to-cache#limitations.\n",
      "To support symlinks on Windows, you either need to activate Developer Mode or to run Python as an administrator. In order to activate developer mode, see this article: https://docs.microsoft.com/en-us/windows/apps/get-started/enable-your-device-for-development\n",
      "  warnings.warn(message)\n",
      "Fetching 5 files: 100%|██████████| 5/5 [01:04<00:00, 12.91s/it]\n"
     ]
    },
    {
     "data": {
      "text/plain": [
       "UpdateResult(operation_id=2, status=<UpdateStatus.COMPLETED: 'completed'>)"
      ]
     },
     "execution_count": 68,
     "metadata": {},
     "output_type": "execute_result"
    }
   ],
   "source": [
    "qd_client.upsert(collection_name=collection_name, points=points)"
   ]
  },
  {
   "cell_type": "code",
   "execution_count": 70,
   "id": "eb5fbf94",
   "metadata": {},
   "outputs": [],
   "source": [
    "def vector_search(question):\n",
    "    query_points = qd_client.query_points(\n",
    "        collection_name=collection_name,\n",
    "        query=models.Document(\n",
    "            text=question,\n",
    "            model=model \n",
    "        ),\n",
    "        limit=5,\n",
    "        with_payload=True\n",
    "    )\n",
    "    return query_points"
   ]
  },
  {
   "cell_type": "code",
   "execution_count": 75,
   "id": "cdf5c912",
   "metadata": {},
   "outputs": [],
   "source": [
    "scores = []\n",
    "for point in vector_search(query).points:\n",
    "    scores.append(point.score)"
   ]
  },
  {
   "cell_type": "code",
   "execution_count": 76,
   "id": "fdb647a9",
   "metadata": {},
   "outputs": [
    {
     "data": {
      "text/plain": [
       "0.87031734"
      ]
     },
     "execution_count": 76,
     "metadata": {},
     "output_type": "execute_result"
    }
   ],
   "source": [
    "max(scores)"
   ]
  }
 ],
 "metadata": {
  "kernelspec": {
   "display_name": ".venv",
   "language": "python",
   "name": "python3"
  },
  "language_info": {
   "codemirror_mode": {
    "name": "ipython",
    "version": 3
   },
   "file_extension": ".py",
   "mimetype": "text/x-python",
   "name": "python",
   "nbconvert_exporter": "python",
   "pygments_lexer": "ipython3",
   "version": "3.12.10"
  }
 },
 "nbformat": 4,
 "nbformat_minor": 5
}
